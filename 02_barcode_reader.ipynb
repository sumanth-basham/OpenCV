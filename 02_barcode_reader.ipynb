{
  "cells": [
    {
      "cell_type": "markdown",
      "metadata": {
        "id": "view-in-github",
        "colab_type": "text"
      },
      "source": [
        "<a href=\"https://colab.research.google.com/github/tillu1208/OpenCV/blob/main/02_barcode_reader.ipynb\" target=\"_parent\"><img src=\"https://colab.research.google.com/assets/colab-badge.svg\" alt=\"Open In Colab\"/></a>"
      ]
    },
    {
      "cell_type": "markdown",
      "id": "fd51880d-aba3-4f68-8f6e-4845b1db249e",
      "metadata": {
        "id": "fd51880d-aba3-4f68-8f6e-4845b1db249e"
      },
      "source": [
        "# Bar Code Detection and Decoding using OpenCV and Python"
      ]
    },
    {
      "cell_type": "markdown",
      "id": "76f0fb30-3db9-4366-a0e6-4a5b252c803b",
      "metadata": {
        "id": "76f0fb30-3db9-4366-a0e6-4a5b252c803b"
      },
      "source": [
        "![](https://www.dropbox.com/scl/fi/na6dsv1nc741ugz756otd/Barcode-output.jpg?rlkey=vetf95jdm3p45g5absgjlr6v1&dl=1)\n",
        "\n",
        "\n",
        "---\n",
        "\n",
        "\n",
        "This tutorial demonstrates how to detect and decode barcodes in images using `OpenCV`, and the `Pyzbar` library. It covers installing Pyzbar, importing necessary libraries, reading an image file, and applying the decode function to identify barcodes. It includes a function to draw rectangles around detected barcodes and display their data and type. The process is illustrated with code snippets and explanations, showing how to work with barcode images effectively."
      ]
    },
    {
      "cell_type": "markdown",
      "id": "6050a2f4-c9ff-4b39-8c06-7d710961b1ed",
      "metadata": {
        "id": "6050a2f4-c9ff-4b39-8c06-7d710961b1ed"
      },
      "source": [
        "### Install Dependencies\n",
        "Initially, the necessary packages need to imported into the script."
      ]
    },
    {
      "cell_type": "markdown",
      "source": [
        "If you see an ugly `ImportError` when importing `pyzbar` on Windows you will most likely need the [Visual C++ Redistributable Packages for Visual Studio 2013](https://www.microsoft.com/en-US/download/details.aspx?id=40784). Install `vcredist_x64.exe` if using **64-bit** Python, `vcredist_x86.exe` if using **32-bit** Python."
      ],
      "metadata": {
        "id": "6bKRhkxf14f-"
      },
      "id": "6bKRhkxf14f-"
    },
    {
      "cell_type": "code",
      "execution_count": 1,
      "id": "a298dbd0-d42a-4f6c-9949-448147993821",
      "metadata": {
        "id": "a298dbd0-d42a-4f6c-9949-448147993821",
        "outputId": "9f1c7de6-8c5b-4efb-b4c1-f22a7e68a76e",
        "colab": {
          "base_uri": "https://localhost:8080/"
        }
      },
      "outputs": [
        {
          "output_type": "stream",
          "name": "stdout",
          "text": [
            "Linux\n",
            "Selecting previously unselected package fonts-droid-fallback.\n",
            "(Reading database ... 121753 files and directories currently installed.)\n",
            "Preparing to unpack .../00-fonts-droid-fallback_1%3a6.0.1r16-1.1build1_all.deb ...\n",
            "Unpacking fonts-droid-fallback (1:6.0.1r16-1.1build1) ...\n",
            "Selecting previously unselected package libfftw3-double3:amd64.\n",
            "Preparing to unpack .../01-libfftw3-double3_3.3.8-2ubuntu8_amd64.deb ...\n",
            "Unpacking libfftw3-double3:amd64 (3.3.8-2ubuntu8) ...\n",
            "Selecting previously unselected package liblqr-1-0:amd64.\n",
            "Preparing to unpack .../02-liblqr-1-0_0.4.2-2.1_amd64.deb ...\n",
            "Unpacking liblqr-1-0:amd64 (0.4.2-2.1) ...\n",
            "Selecting previously unselected package imagemagick-6-common.\n",
            "Preparing to unpack .../03-imagemagick-6-common_8%3a6.9.11.60+dfsg-1.3ubuntu0.22.04.3_all.deb ...\n",
            "Unpacking imagemagick-6-common (8:6.9.11.60+dfsg-1.3ubuntu0.22.04.3) ...\n",
            "Selecting previously unselected package libmagickcore-6.q16-6:amd64.\n",
            "Preparing to unpack .../04-libmagickcore-6.q16-6_8%3a6.9.11.60+dfsg-1.3ubuntu0.22.04.3_amd64.deb ...\n",
            "Unpacking libmagickcore-6.q16-6:amd64 (8:6.9.11.60+dfsg-1.3ubuntu0.22.04.3) ...\n",
            "Selecting previously unselected package libmagickwand-6.q16-6:amd64.\n",
            "Preparing to unpack .../05-libmagickwand-6.q16-6_8%3a6.9.11.60+dfsg-1.3ubuntu0.22.04.3_amd64.deb ...\n",
            "Unpacking libmagickwand-6.q16-6:amd64 (8:6.9.11.60+dfsg-1.3ubuntu0.22.04.3) ...\n",
            "Selecting previously unselected package poppler-data.\n",
            "Preparing to unpack .../06-poppler-data_0.4.11-1_all.deb ...\n",
            "Unpacking poppler-data (0.4.11-1) ...\n",
            "Selecting previously unselected package fonts-noto-mono.\n",
            "Preparing to unpack .../07-fonts-noto-mono_20201225-1build1_all.deb ...\n",
            "Unpacking fonts-noto-mono (20201225-1build1) ...\n",
            "Selecting previously unselected package fonts-urw-base35.\n",
            "Preparing to unpack .../08-fonts-urw-base35_20200910-1_all.deb ...\n",
            "Unpacking fonts-urw-base35 (20200910-1) ...\n",
            "Selecting previously unselected package libgs9-common.\n",
            "Preparing to unpack .../09-libgs9-common_9.55.0~dfsg1-0ubuntu5.6_all.deb ...\n",
            "Unpacking libgs9-common (9.55.0~dfsg1-0ubuntu5.6) ...\n",
            "Selecting previously unselected package libidn12:amd64.\n",
            "Preparing to unpack .../10-libidn12_1.38-4ubuntu1_amd64.deb ...\n",
            "Unpacking libidn12:amd64 (1.38-4ubuntu1) ...\n",
            "Selecting previously unselected package libijs-0.35:amd64.\n",
            "Preparing to unpack .../11-libijs-0.35_0.35-15build2_amd64.deb ...\n",
            "Unpacking libijs-0.35:amd64 (0.35-15build2) ...\n",
            "Selecting previously unselected package libjbig2dec0:amd64.\n",
            "Preparing to unpack .../12-libjbig2dec0_0.19-3build2_amd64.deb ...\n",
            "Unpacking libjbig2dec0:amd64 (0.19-3build2) ...\n",
            "Selecting previously unselected package libgs9:amd64.\n",
            "Preparing to unpack .../13-libgs9_9.55.0~dfsg1-0ubuntu5.6_amd64.deb ...\n",
            "Unpacking libgs9:amd64 (9.55.0~dfsg1-0ubuntu5.6) ...\n",
            "Selecting previously unselected package ghostscript.\n",
            "Preparing to unpack .../14-ghostscript_9.55.0~dfsg1-0ubuntu5.6_amd64.deb ...\n",
            "Unpacking ghostscript (9.55.0~dfsg1-0ubuntu5.6) ...\n",
            "Selecting previously unselected package gsfonts.\n",
            "Preparing to unpack .../15-gsfonts_1%3a8.11+urwcyr1.0.7~pre44-4.5_all.deb ...\n",
            "Unpacking gsfonts (1:8.11+urwcyr1.0.7~pre44-4.5) ...\n",
            "Selecting previously unselected package libdjvulibre-text.\n",
            "Preparing to unpack .../16-libdjvulibre-text_3.5.28-2build2_all.deb ...\n",
            "Unpacking libdjvulibre-text (3.5.28-2build2) ...\n",
            "Selecting previously unselected package libdjvulibre21:amd64.\n",
            "Preparing to unpack .../17-libdjvulibre21_3.5.28-2build2_amd64.deb ...\n",
            "Unpacking libdjvulibre21:amd64 (3.5.28-2build2) ...\n",
            "Selecting previously unselected package libjxr0:amd64.\n",
            "Preparing to unpack .../18-libjxr0_1.2~git20170615.f752187-5_amd64.deb ...\n",
            "Unpacking libjxr0:amd64 (1.2~git20170615.f752187-5) ...\n",
            "Selecting previously unselected package libjxr-tools.\n",
            "Preparing to unpack .../19-libjxr-tools_1.2~git20170615.f752187-5_amd64.deb ...\n",
            "Unpacking libjxr-tools (1.2~git20170615.f752187-5) ...\n",
            "Selecting previously unselected package libwmflite-0.2-7:amd64.\n",
            "Preparing to unpack .../20-libwmflite-0.2-7_0.2.12-5ubuntu1_amd64.deb ...\n",
            "Unpacking libwmflite-0.2-7:amd64 (0.2.12-5ubuntu1) ...\n",
            "Selecting previously unselected package libmagickcore-6.q16-6-extra:amd64.\n",
            "Preparing to unpack .../21-libmagickcore-6.q16-6-extra_8%3a6.9.11.60+dfsg-1.3ubuntu0.22.04.3_amd64.deb ...\n",
            "Unpacking libmagickcore-6.q16-6-extra:amd64 (8:6.9.11.60+dfsg-1.3ubuntu0.22.04.3) ...\n",
            "Selecting previously unselected package libv4lconvert0:amd64.\n",
            "Preparing to unpack .../22-libv4lconvert0_1.22.1-2build1_amd64.deb ...\n",
            "Unpacking libv4lconvert0:amd64 (1.22.1-2build1) ...\n",
            "Selecting previously unselected package libv4l-0:amd64.\n",
            "Preparing to unpack .../23-libv4l-0_1.22.1-2build1_amd64.deb ...\n",
            "Unpacking libv4l-0:amd64 (1.22.1-2build1) ...\n",
            "Selecting previously unselected package libzbar0:amd64.\n",
            "Preparing to unpack .../24-libzbar0_0.23.92-4build2_amd64.deb ...\n",
            "Unpacking libzbar0:amd64 (0.23.92-4build2) ...\n",
            "Setting up imagemagick-6-common (8:6.9.11.60+dfsg-1.3ubuntu0.22.04.3) ...\n",
            "Setting up fonts-noto-mono (20201225-1build1) ...\n",
            "Setting up libwmflite-0.2-7:amd64 (0.2.12-5ubuntu1) ...\n",
            "Setting up libijs-0.35:amd64 (0.35-15build2) ...\n",
            "Setting up libjxr0:amd64 (1.2~git20170615.f752187-5) ...\n",
            "Setting up fonts-urw-base35 (20200910-1) ...\n",
            "Setting up poppler-data (0.4.11-1) ...\n",
            "Setting up libjbig2dec0:amd64 (0.19-3build2) ...\n",
            "Setting up gsfonts (1:8.11+urwcyr1.0.7~pre44-4.5) ...\n",
            "Setting up libidn12:amd64 (1.38-4ubuntu1) ...\n",
            "Setting up libfftw3-double3:amd64 (3.3.8-2ubuntu8) ...\n",
            "Setting up liblqr-1-0:amd64 (0.4.2-2.1) ...\n",
            "Setting up libv4lconvert0:amd64 (1.22.1-2build1) ...\n",
            "Setting up fonts-droid-fallback (1:6.0.1r16-1.1build1) ...\n",
            "Setting up libdjvulibre-text (3.5.28-2build2) ...\n",
            "Setting up libgs9-common (9.55.0~dfsg1-0ubuntu5.6) ...\n",
            "Setting up libjxr-tools (1.2~git20170615.f752187-5) ...\n",
            "Setting up libgs9:amd64 (9.55.0~dfsg1-0ubuntu5.6) ...\n",
            "Setting up libdjvulibre21:amd64 (3.5.28-2build2) ...\n",
            "Setting up ghostscript (9.55.0~dfsg1-0ubuntu5.6) ...\n",
            "Setting up libv4l-0:amd64 (1.22.1-2build1) ...\n",
            "Setting up libmagickcore-6.q16-6:amd64 (8:6.9.11.60+dfsg-1.3ubuntu0.22.04.3) ...\n",
            "Setting up libmagickwand-6.q16-6:amd64 (8:6.9.11.60+dfsg-1.3ubuntu0.22.04.3) ...\n",
            "Setting up libmagickcore-6.q16-6-extra:amd64 (8:6.9.11.60+dfsg-1.3ubuntu0.22.04.3) ...\n",
            "Setting up libzbar0:amd64 (0.23.92-4build2) ...\n",
            "Processing triggers for man-db (2.10.2-1) ...\n",
            "Processing triggers for fontconfig (2.13.1-4.2ubuntu5) ...\n",
            "Processing triggers for libc-bin (2.35-0ubuntu3.4) ...\n",
            "/sbin/ldconfig.real: /usr/local/lib/libtbbmalloc.so.2 is not a symbolic link\n",
            "\n",
            "/sbin/ldconfig.real: /usr/local/lib/libtbbmalloc_proxy.so.2 is not a symbolic link\n",
            "\n",
            "/sbin/ldconfig.real: /usr/local/lib/libtbbbind_2_0.so.3 is not a symbolic link\n",
            "\n",
            "/sbin/ldconfig.real: /usr/local/lib/libtbbbind_2_5.so.3 is not a symbolic link\n",
            "\n",
            "/sbin/ldconfig.real: /usr/local/lib/libtbb.so.12 is not a symbolic link\n",
            "\n",
            "/sbin/ldconfig.real: /usr/local/lib/libtbbbind.so.3 is not a symbolic link\n",
            "\n"
          ]
        }
      ],
      "source": [
        "import platform\n",
        "\n",
        "def install_libraries(os_name):\n",
        "    if os_name == \"Windows\":\n",
        "      !pip -qq install pyzbar\n",
        "    elif os_name == \"Linux\":\n",
        "      !apt-get -qq install libzbar0\n",
        "      !pip -qq install pyzbar\n",
        "    else:\n",
        "        print(\"Unsupported OS\")\n",
        "\n",
        "# Check the operating system\n",
        "os_name = platform.system()\n",
        "print(os_name)\n",
        "\n",
        "# Install libraries based on the OS\n",
        "install_libraries(os_name)"
      ]
    },
    {
      "cell_type": "markdown",
      "source": [
        "### Library Imports\n",
        "Import all the required libraries."
      ],
      "metadata": {
        "id": "z-aw59jfJ9Z3"
      },
      "id": "z-aw59jfJ9Z3"
    },
    {
      "cell_type": "code",
      "execution_count": 2,
      "id": "88c3e951-1732-4808-b4a1-98bc9c53426b",
      "metadata": {
        "id": "88c3e951-1732-4808-b4a1-98bc9c53426b"
      },
      "outputs": [],
      "source": [
        "# Required packages\n",
        "import os\n",
        "import cv2\n",
        "from pyzbar.pyzbar import decode\n",
        "import numpy as np\n",
        "import requests\n",
        "import matplotlib.pyplot as plt"
      ]
    },
    {
      "cell_type": "markdown",
      "source": [
        "### Download  The Data"
      ],
      "metadata": {
        "id": "7fSDhs7UMtqt"
      },
      "id": "7fSDhs7UMtqt"
    },
    {
      "cell_type": "code",
      "source": [
        "# Check if the file does not exist before downloading\n",
        "if not os.path.exists(\"Barcode.png\"):\n",
        "    # URL of the file to be downloaded\n",
        "    url = \"https://www.dropbox.com/scl/fi/rz1n9rs3ruzs5o45x34y6/Barcode.png?rlkey=srr69yrtzlrua4v2khe56gutd&dl=1\"\n",
        "\n",
        "    # Make a GET request to the URL\n",
        "    response = requests.get(url)\n",
        "\n",
        "    # Check if the request was successful\n",
        "    if response.status_code == 200:\n",
        "        # Open a file in binary write mode and save the content of the response\n",
        "        with open(\"Barcode.png\", \"wb\") as file:\n",
        "            file.write(response.content)\n",
        "    else:\n",
        "        print(\"Failed to download the file.\")"
      ],
      "metadata": {
        "id": "ISY1nMh9Ms8t"
      },
      "id": "ISY1nMh9Ms8t",
      "execution_count": 3,
      "outputs": []
    },
    {
      "cell_type": "markdown",
      "id": "2e7a8741-db08-45f6-a85a-1c8a4ff325ae",
      "metadata": {
        "id": "2e7a8741-db08-45f6-a85a-1c8a4ff325ae"
      },
      "source": [
        "### Reading the Input Image\n",
        " Before trying to decode the Bar Code image, it needs to be read. In the below cell, the directory path to the image is defined. Here, OpenCV's `imread()` method has been used to read the sample image."
      ]
    },
    {
      "cell_type": "code",
      "execution_count": 4,
      "id": "558b8839-3988-4c96-b23c-2593cd351bed",
      "metadata": {
        "id": "558b8839-3988-4c96-b23c-2593cd351bed",
        "outputId": "b2029720-c332-4da0-be8d-1ef6bc05efb3",
        "colab": {
          "base_uri": "https://localhost:8080/",
          "height": 174
        }
      },
      "outputs": [
        {
          "output_type": "display_data",
          "data": {
            "text/plain": [
              "<Figure size 640x480 with 1 Axes>"
            ],
            "image/png": "[encoded data removed]"
          },
          "metadata": {}
        }
      ],
      "source": [
        "filepath = 'Barcode.png'\n",
        "inputImage = cv2.imread(filepath)\n",
        "img = inputImage.copy()\n",
        "plt.imshow(inputImage)\n",
        "plt.show(block=False)"
      ]
    },
    {
      "cell_type": "markdown",
      "id": "1d101b41-6b9b-491b-8a2a-3ae65a7acaeb",
      "metadata": {
        "id": "1d101b41-6b9b-491b-8a2a-3ae65a7acaeb"
      },
      "source": [
        "### Function to Display the Outputs\n",
        "We need to ensure that the detected bar codes are converted to the correct format before they are used in the `cv2.rectangle` function. The `det_bar` variable is expected to be a list of bar code instances detected. It has a attribute `rect`, which returns the bounding box center and width and height."
      ]
    },
    {
      "cell_type": "code",
      "execution_count": 5,
      "id": "1fbe64d4-cf76-471e-89a6-7391fb98891d",
      "metadata": {
        "id": "1fbe64d4-cf76-471e-89a6-7391fb98891d"
      },
      "outputs": [],
      "source": [
        "# Function for displaying the rectangle over the bar code\n",
        "def display(img, det_bar):\n",
        "    for bar in det_bar:\n",
        "        x, y, w, h = bar.rect\n",
        "        cv2.rectangle(img, (x, y), (x + w, y + h), (0, 0, 255), 4)\n",
        "        print(bar.data)\n",
        "        print(bar.type)\n",
        "\n",
        "    # Return results\n",
        "    return img"
      ]
    },
    {
      "cell_type": "markdown",
      "id": "df4c2655-8b0d-4a6a-8a17-a9e067b96a90",
      "metadata": {
        "id": "df4c2655-8b0d-4a6a-8a17-a9e067b96a90"
      },
      "source": [
        "### Running the Decoder\n",
        "In the below cell, `decode` method from the pyzbar package is used. We pass the image to the `decoder` method, which eventually gives us the detected Bar codes and their respective information."
      ]
    },
    {
      "cell_type": "code",
      "execution_count": 6,
      "id": "b7671c83-4a9d-4493-95cb-2450943acaa8",
      "metadata": {
        "id": "b7671c83-4a9d-4493-95cb-2450943acaa8"
      },
      "outputs": [],
      "source": [
        "# Running the decode function on inputImage\n",
        "detected_bar_codes = decode(inputImage)"
      ]
    },
    {
      "cell_type": "markdown",
      "id": "867e604f-f633-498d-9574-0e4d5e2e7921",
      "metadata": {
        "id": "867e604f-f633-498d-9574-0e4d5e2e7921"
      },
      "source": [
        "### Display The Results\n",
        "In the end, the informaton decoded from the Bar code can be printed."
      ]
    },
    {
      "cell_type": "code",
      "execution_count": 7,
      "id": "add4121a-6d56-4206-b201-a487f6cf4732",
      "metadata": {
        "id": "add4121a-6d56-4206-b201-a487f6cf4732",
        "outputId": "87feaf01-ea15-453f-f6f1-dc3fbd294ac1",
        "colab": {
          "base_uri": "https://localhost:8080/",
          "height": 209
        }
      },
      "outputs": [
        {
          "output_type": "stream",
          "name": "stdout",
          "text": [
            "b\"{'Program': 'CVDL Master', 'Price': '$1999'}\"\n",
            "CODE128\n"
          ]
        },
        {
          "output_type": "display_data",
          "data": {
            "text/plain": [
              "<Figure size 640x480 with 1 Axes>"
            ],
            "image/png": "[encoded data removed]"
          },
          "metadata": {}
        }
      ],
      "source": [
        "if detected_bar_codes:\n",
        "    bbox_img = display(img, detected_bar_codes)\n",
        "    plt.imshow(bbox_img[...,::-1])\n",
        "    plt.show(block=False)\n",
        "\n",
        "else:\n",
        "    print(\"Barcode not detected\")\n",
        "    plt.imshow(inputImage)"
      ]
    },
    {
      "cell_type": "markdown",
      "source": [
        "### Save The Results"
      ],
      "metadata": {
        "id": "FPqgFIA-KpU9"
      },
      "id": "FPqgFIA-KpU9"
    },
    {
      "cell_type": "code",
      "execution_count": null,
      "id": "d33f492d-efd7-4315-89b0-f9a1f32b672d",
      "metadata": {
        "id": "d33f492d-efd7-4315-89b0-f9a1f32b672d",
        "outputId": "d19e4cb8-6d51-4c48-b263-bc92a0d93e74",
        "colab": {
          "base_uri": "https://localhost:8080/"
        }
      },
      "outputs": [
        {
          "output_type": "execute_result",
          "data": {
            "text/plain": [
              "True"
            ]
          },
          "metadata": {},
          "execution_count": 8
        }
      ],
      "source": [
        "cv2.imwrite(\"Barcode-output.jpg\", bbox_img)"
      ]
    }
  ],
  "metadata": {
    "kernelspec": {
      "display_name": "Python 3 (ipykernel)",
      "language": "python",
      "name": "python3"
    },
    "language_info": {
      "codemirror_mode": {
        "name": "ipython",
        "version": 3
      },
      "file_extension": ".py",
      "mimetype": "text/x-python",
      "name": "python",
      "nbconvert_exporter": "python",
      "pygments_lexer": "ipython3",
      "version": "3.10.13"
    },
    "colab": {
      "provenance": [],
      "include_colab_link": true
    }
  },
  "nbformat": 4,
  "nbformat_minor": 5
}