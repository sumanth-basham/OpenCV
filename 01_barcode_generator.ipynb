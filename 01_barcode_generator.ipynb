{
  "cells": [
    {
      "cell_type": "markdown",
      "metadata": {
        "id": "view-in-github",
        "colab_type": "text"
      },
      "source": [
        "<a href=\"https://colab.research.google.com/github/tillu1208/OpenCV/blob/main/01_barcode_generator.ipynb\" target=\"_parent\"><img src=\"https://colab.research.google.com/assets/colab-badge.svg\" alt=\"Open In Colab\"/></a>"
      ]
    },
    {
      "cell_type": "markdown",
      "metadata": {
        "id": "ZhEYmOifAKjh"
      },
      "source": [
        "# Bar Code Generation using Python"
      ]
    },
    {
      "cell_type": "markdown",
      "source": [
        "![](https://www.dropbox.com/scl/fi/81jsp3yaqupy4jktemnrk/Barcode.png?rlkey=xw15fv1uz9pzzfvrkutha0qlt&dl=1)\n",
        "\n",
        "\n",
        "---\n",
        "\n",
        "\n",
        "This tutorial outlines the process of generating a barcode in Python using the `python-barcode` library. It begins with installing the necessary package and importing the required modules. It demonstrates how to convert input data into a string format for barcode creation, choosing `'code128'` as the barcode type for its efficiency. The process involves initializing the barcode type, generating the barcode with the given data and an `ImageWriter()`, and finally saving the barcode image. It concludes by displaying the generated barcode, providing a straightforward guide to creating barcodes in Python."
      ],
      "metadata": {
        "id": "PmPOW16pm4PD"
      }
    },
    {
      "cell_type": "markdown",
      "metadata": {
        "id": "aRSBWkxBAKji"
      },
      "source": [
        "### Installing Dependencies\n",
        "First install a package named `python-barcode` which helps to create a unique Bar code based on the given information."
      ]
    },
    {
      "cell_type": "code",
      "execution_count": 1,
      "metadata": {
        "id": "3ma-tyGvAKji",
        "outputId": "e0220cd4-619f-4afa-fa05-382b8af9b321",
        "colab": {
          "base_uri": "https://localhost:8080/"
        }
      },
      "outputs": [
        {
          "output_type": "stream",
          "name": "stdout",
          "text": [
            "\u001b[?25l     \u001b[90m━━━━━━━━━━━━━━━━━━━━━━━━━━━━━━━━━━━━━━━━\u001b[0m \u001b[32m0.0/213.0 kB\u001b[0m \u001b[31m?\u001b[0m eta \u001b[36m-:--:--\u001b[0m\r\u001b[2K     \u001b[91m━━━━━━━━━━━━━━━━━\u001b[0m\u001b[90m╺\u001b[0m\u001b[90m━━━━━━━━━━━━━━━━━━━━━━\u001b[0m \u001b[32m92.2/213.0 kB\u001b[0m \u001b[31m2.4 MB/s\u001b[0m eta \u001b[36m0:00:01\u001b[0m\r\u001b[2K     \u001b[90m━━━━━━━━━━━━━━━━━━━━━━━━━━━━━━━━━━━━━━━━\u001b[0m \u001b[32m213.0/213.0 kB\u001b[0m \u001b[31m2.9 MB/s\u001b[0m eta \u001b[36m0:00:00\u001b[0m\n",
            "\u001b[?25h"
          ]
        }
      ],
      "source": [
        "!pip -q install python-barcode"
      ]
    },
    {
      "cell_type": "markdown",
      "metadata": {
        "id": "t4L0fSMGAKjj"
      },
      "source": [
        "### Library Imports\n",
        "Import the necessary libraries, here the `barcode` is the library we need to generate a bar code."
      ]
    },
    {
      "cell_type": "code",
      "execution_count": 2,
      "metadata": {
        "id": "N0wMCPZYAKjj"
      },
      "outputs": [],
      "source": [
        "import cv2\n",
        "import barcode\n",
        "from barcode.writer import ImageWriter\n",
        "\n",
        "import matplotlib.pyplot as plt"
      ]
    },
    {
      "cell_type": "markdown",
      "metadata": {
        "id": "aX_2jIXXAKjj"
      },
      "source": [
        "### Data Initialization\n",
        "Here we are trying to create a bar code from the text `\"Program\":\"CVDL Master\",\"Price\":\"$1999\"`."
      ]
    },
    {
      "cell_type": "code",
      "execution_count": 3,
      "metadata": {
        "id": "9N4PvqvUAKjj",
        "outputId": "d369d720-05a6-4f1e-cb65-97e0a8c8b8bc",
        "colab": {
          "base_uri": "https://localhost:8080/"
        }
      },
      "outputs": [
        {
          "output_type": "stream",
          "name": "stdout",
          "text": [
            "Input Data:  {'Program': 'CVDL Master', 'Price': '$1999'}\n"
          ]
        }
      ],
      "source": [
        "# Replace with your data\n",
        "barcode_data_dict = {\"Program\":\"CVDL Master\",\"Price\":\"$1999\"}\n",
        "\n",
        "barcode_data = str(barcode_data_dict)\n",
        "print(\"Input Data: \", barcode_data)"
      ]
    },
    {
      "cell_type": "markdown",
      "metadata": {
        "id": "vstFkBBIAKjj"
      },
      "source": [
        "### Choosing The Barcode Type\n",
        "Below we select the bar code type and initiate the `barcode_type` class. There are multiple types such as `'ean13'`, `'ean8'`, `'isbn13'` etc."
      ]
    },
    {
      "cell_type": "code",
      "execution_count": 4,
      "metadata": {
        "id": "JMbtx5CYAKjj"
      },
      "outputs": [],
      "source": [
        "# Select the type of barcode (e.g., 'ean13', 'ean8', 'isbn13', 'upc', 'code39')\n",
        "barcode_type = barcode.get_barcode_class('code128')"
      ]
    },
    {
      "cell_type": "markdown",
      "metadata": {
        "id": "v5pr90-YAKjj"
      },
      "source": [
        "### Results Generation\n",
        "In the code cell below, we give the barcode data and the `ImageWriter()` class to the `Code128` class obtained above, to finally generate the bar code."
      ]
    },
    {
      "cell_type": "code",
      "execution_count": 5,
      "metadata": {
        "id": "wzPDxnMBAKjj"
      },
      "outputs": [],
      "source": [
        "# Creating the barcode\n",
        "barcode_obj = barcode_type(barcode_data, writer = ImageWriter())"
      ]
    },
    {
      "cell_type": "markdown",
      "metadata": {
        "id": "syGEmmKFAKjk"
      },
      "source": [
        "### Saving and Displaying The Output\n",
        "Finally we save the generated bar code with a filename **`Barcode`**"
      ]
    },
    {
      "cell_type": "code",
      "execution_count": 6,
      "metadata": {
        "id": "SXVqvxTAAKjk"
      },
      "outputs": [],
      "source": [
        "# Saving the barcode as an image\n",
        "barcode_file = barcode_obj.save(\"Barcode\")"
      ]
    },
    {
      "cell_type": "code",
      "execution_count": 7,
      "metadata": {
        "id": "JrZdG87AAKjk",
        "outputId": "12923ab9-9cf8-4a6d-cf49-0c72674f3c8e",
        "colab": {
          "base_uri": "https://localhost:8080/",
          "height": 174
        }
      },
      "outputs": [
        {
          "output_type": "display_data",
          "data": {
            "text/plain": [
              "<Figure size 640x480 with 1 Axes>"
            ],
            "image/png": "[encoded data removed]"
          },
          "metadata": {}
        }
      ],
      "source": [
        "plt.imshow(cv2.imread(barcode_file))\n",
        "plt.show(block=False)"
      ]
    }
  ],
  "metadata": {
    "kernelspec": {
      "display_name": "Python 3 (ipykernel)",
      "language": "python",
      "name": "python3"
    },
    "language_info": {
      "codemirror_mode": {
        "name": "ipython",
        "version": 3
      },
      "file_extension": ".py",
      "mimetype": "text/x-python",
      "name": "python",
      "nbconvert_exporter": "python",
      "pygments_lexer": "ipython3",
      "version": "3.10.13"
    },
    "colab": {
      "provenance": [],
      "include_colab_link": true
    }
  },
  "nbformat": 4,
  "nbformat_minor": 0
}