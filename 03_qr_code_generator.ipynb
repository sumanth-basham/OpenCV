{
  "cells": [
    {
      "cell_type": "markdown",
      "metadata": {
        "id": "view-in-github",
        "colab_type": "text"
      },
      "source": [
        "<a href=\"https://colab.research.google.com/github/tillu1208/OpenCV/blob/main/03_qr_code_generator.ipynb\" target=\"_parent\"><img src=\"https://colab.research.google.com/assets/colab-badge.svg\" alt=\"Open In Colab\"/></a>"
      ]
    },
    {
      "cell_type": "markdown",
      "metadata": {
        "id": "fNOEwuwR_ew4"
      },
      "source": [
        "# QR Code Generation using Python"
      ]
    },
    {
      "cell_type": "markdown",
      "source": [
        "![](https://www.dropbox.com/scl/fi/3d27c2rwr758zfxo87254/QRcode.png?rlkey=q0fhrsfrcw2aqre6rc2pk42ty&dl=1)\n",
        "\n",
        "\n",
        "---\n",
        "\n",
        "This tutorial showcases how to generate a QR code in Python using the `qrcode` library. It starts with installing the library and importing necessary modules. The process includes initializing a QR code with specific settings such as version, error correction level, box size, and border. Then we adds data to the QR code, customizes the QR code colors, and saves the generated QR code image. Finally, it demonstrates displaying the QR code using matplotlib."
      ],
      "metadata": {
        "id": "y6y17s67b_1i"
      }
    },
    {
      "cell_type": "markdown",
      "metadata": {
        "id": "t7Hx8ziW_ew5"
      },
      "source": [
        "### Install Dependencies\n",
        "First install a package named `qrcode` which helps to create a unique QR code based on the given information."
      ]
    },
    {
      "cell_type": "code",
      "execution_count": 2,
      "metadata": {
        "id": "MCfLjgdN_ew6",
        "outputId": "5e8625df-c1c3-4abd-a5af-da123c213d79",
        "colab": {
          "base_uri": "https://localhost:8080/"
        }
      },
      "outputs": [
        {
          "output_type": "stream",
          "name": "stdout",
          "text": [
            "\u001b[2K     \u001b[90m━━━━━━━━━━━━━━━━━━━━━━━━━━━━━━━━━━━━━━━━\u001b[0m \u001b[32m46.2/46.2 kB\u001b[0m \u001b[31m1.1 MB/s\u001b[0m eta \u001b[36m0:00:00\u001b[0m\n",
            "\u001b[2K     \u001b[90m━━━━━━━━━━━━━━━━━━━━━━━━━━━━━━━━━━━━━━━━\u001b[0m \u001b[32m58.1/58.1 kB\u001b[0m \u001b[31m2.8 MB/s\u001b[0m eta \u001b[36m0:00:00\u001b[0m\n",
            "\u001b[?25h"
          ]
        }
      ],
      "source": [
        "!pip -q install qrcode"
      ]
    },
    {
      "cell_type": "markdown",
      "metadata": {
        "id": "LFekG2au_ew6"
      },
      "source": [
        "### Import Libraries\n",
        "Import the necessary libraries, here the `qrcode` is the library we need to generate a bar code."
      ]
    },
    {
      "cell_type": "code",
      "execution_count": 3,
      "metadata": {
        "id": "JdbzDm75_ew7"
      },
      "outputs": [],
      "source": [
        "import qrcode\n",
        "import matplotlib.pyplot as plt"
      ]
    },
    {
      "cell_type": "markdown",
      "metadata": {
        "id": "yt9XQcyg_ew7"
      },
      "source": [
        "### Data Initialization\n",
        "We initiate a variable data where we store the data to be encoded via the QR code."
      ]
    },
    {
      "cell_type": "code",
      "execution_count": 4,
      "metadata": {
        "id": "mkRfLp24_ew7"
      },
      "outputs": [],
      "source": [
        "# Data to be encoded\n",
        "data = \"https://www.opencv.org/university\""
      ]
    },
    {
      "cell_type": "markdown",
      "metadata": {
        "id": "y9Nj7DJf_ew7"
      },
      "source": [
        "### Setting UP The Parameters\n",
        "Below we specify some setting for generating a QR code, which are as follows,\n",
        "\n",
        "- `version=1` = It's a version 1 QR code, indicating a smaller size.\n",
        "\n",
        "- In `error_correction` the error correction level is set to \"L,\" which is suitable for basic error correction.\n",
        "\n",
        "- `box_size = 10` refers that each QR code module (square element) is 10 pixels wide.\n",
        "\n",
        "- `border=4` implies that there's a 4-module-wide border around the QR code.\n",
        "\n",
        "Maintaing these parameter a class is initiates named `qr`."
      ]
    },
    {
      "cell_type": "code",
      "execution_count": 5,
      "metadata": {
        "id": "VkpSWaDd_ew7"
      },
      "outputs": [],
      "source": [
        "# Creating an instance of QRCode\n",
        "qr = qrcode.QRCode(\n",
        "    version          = 1,\n",
        "    error_correction = qrcode.constants.ERROR_CORRECT_L,\n",
        "    box_size         = 10,\n",
        "    border           = 4,\n",
        ")"
      ]
    },
    {
      "cell_type": "markdown",
      "metadata": {
        "id": "7kOFruEP_ew7"
      },
      "source": [
        "### Adding The Data\n",
        "We add the website string to the qr object created previously."
      ]
    },
    {
      "cell_type": "code",
      "execution_count": 6,
      "metadata": {
        "id": "oS2u6D1Q_ew7"
      },
      "outputs": [],
      "source": [
        "# Adding data to the instance 'qr'\n",
        "qr.add_data(data)"
      ]
    },
    {
      "cell_type": "markdown",
      "metadata": {
        "id": "D4XpyRp__ew7"
      },
      "source": [
        "### Generating Results\n",
        "Let's configure the QR code colors, and finally we save the generated QR code using the `.save()` method."
      ]
    },
    {
      "cell_type": "code",
      "execution_count": 7,
      "metadata": {
        "id": "mIiL4ArY_ew7"
      },
      "outputs": [],
      "source": [
        "# Creating an image from the QR Code instance\n",
        "img = qr.make_image(fill_color = \"black\", back_color = \"white\")\n",
        "\n",
        "# Saving the image\n",
        "img.save(\"QRcode.png\")"
      ]
    },
    {
      "cell_type": "markdown",
      "source": [
        "### Displaying Results"
      ],
      "metadata": {
        "id": "hX_uo0N97GWP"
      }
    },
    {
      "cell_type": "code",
      "execution_count": 8,
      "metadata": {
        "id": "JBB6yZAB_ew7",
        "outputId": "653d8338-76c4-4cd0-fc85-e9b87b8e88e3",
        "colab": {
          "base_uri": "https://localhost:8080/",
          "height": 435
        }
      },
      "outputs": [
        {
          "output_type": "display_data",
          "data": {
            "text/plain": [
              "<Figure size 640x480 with 1 Axes>"
            ],
            "image/png": "[encoded data removed]"
          },
          "metadata": {}
        }
      ],
      "source": [
        "plt.imshow(img, 'gray')\n",
        "plt.show(block=False)"
      ]
    }
  ],
  "metadata": {
    "kernelspec": {
      "display_name": "Python 3 (ipykernel)",
      "language": "python",
      "name": "python3"
    },
    "language_info": {
      "codemirror_mode": {
        "name": "ipython",
        "version": 3
      },
      "file_extension": ".py",
      "mimetype": "text/x-python",
      "name": "python",
      "nbconvert_exporter": "python",
      "pygments_lexer": "ipython3",
      "version": "3.10.13"
    },
    "colab": {
      "provenance": [],
      "include_colab_link": true
    }
  },
  "nbformat": 4,
  "nbformat_minor": 0
}